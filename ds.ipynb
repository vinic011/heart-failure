{
 "cells": [
  {
   "cell_type": "code",
   "execution_count": null,
   "metadata": {},
   "outputs": [],
   "source": [
    "import pandas as pd\n",
    "import seaborn as sns\n",
    "import matplotlib.pyplot as plt\n",
    "from scipy.stats import chi2_contingency\n",
    "import numpy as np\n",
    "import matplotlib.pyplot as plt\n",
    "import pandas as pd\n",
    "from sklearn.model_selection import train_test_split, GridSearchCV\n",
    "from sklearn.preprocessing import StandardScaler\n",
    "from sklearn.pipeline import make_pipeline\n",
    "from sklearn.ensemble import RandomForestClassifier\n",
    "import joblib\n",
    "from sklearn.metrics import confusion_matrix, ConfusionMatrixDisplay\n",
    "import numpy as np"
   ]
  },
  {
   "cell_type": "code",
   "execution_count": null,
   "metadata": {},
   "outputs": [],
   "source": [
    "df = pd.read_csv('data.csv')"
   ]
  },
  {
   "cell_type": "markdown",
   "metadata": {},
   "source": [
    "# EDA\n",
    "\n",
    "\n",
    "#### Objetivos: \n",
    "\n",
    "- Entender melhor o dataset\n",
    "- Determinar quais features são mais relevantes e podem ser utilizadas na vida real\n",
    "- Supomos que essa amostra é representativa\n",
    "- 299 amostras"
   ]
  },
  {
   "cell_type": "code",
   "execution_count": null,
   "metadata": {},
   "outputs": [],
   "source": [
    "df.columns"
   ]
  },
  {
   "cell_type": "code",
   "execution_count": null,
   "metadata": {},
   "outputs": [],
   "source": [
    "df.isna().sum()"
   ]
  },
  {
   "cell_type": "code",
   "execution_count": null,
   "metadata": {},
   "outputs": [],
   "source": [
    "normal_levels = {\n",
    "    'creatinine_phosphokinase': {\n",
    "        'min': 32,\n",
    "        'max': 294\n",
    "    },\n",
    "    'ejection_fraction': {\n",
    "        'min': 50,\n",
    "        'max': 70\n",
    "    },\n",
    "    'platelets': {\n",
    "        'min': 150000,\n",
    "        'max': 450000\n",
    "    },\n",
    "    'serum_creatinine': {\n",
    "        'min': 0.6,\n",
    "        'max': 1.2\n",
    "    },\n",
    "    'serum_sodium': {\n",
    "        'min': 135,\n",
    "        'max': 145\n",
    "    },\n",
    "    'age': {\n",
    "        'min': 40,\n",
    "        'max': 100\n",
    "    }\n",
    "}"
   ]
  },
  {
   "cell_type": "code",
   "execution_count": null,
   "metadata": {},
   "outputs": [],
   "source": [
    "df.info()"
   ]
  },
  {
   "cell_type": "code",
   "execution_count": null,
   "metadata": {},
   "outputs": [],
   "source": [
    "boolean_variables = ['anaemia', 'diabetes', 'high_blood_pressure', 'smoking','sex']"
   ]
  },
  {
   "cell_type": "code",
   "execution_count": null,
   "metadata": {},
   "outputs": [],
   "source": [
    "continuous_variables = ['age', 'creatinine_phosphokinase', 'ejection_fraction', 'platelets', 'serum_creatinine', 'serum_sodium']"
   ]
  },
  {
   "cell_type": "code",
   "execution_count": null,
   "metadata": {},
   "outputs": [],
   "source": [
    "for var in normal_levels.keys():\n",
    "    fig, axes = plt.subplots(1, 2, figsize=(20, 6))\n",
    "\n",
    "    # Histograma para casos de morte e não morte\n",
    "    sns.histplot(df[df['DEATH_EVENT'] == 1][var], bins=20, kde=True, color='red', label='Morte', alpha=0.6, ax=axes[0])\n",
    "    sns.histplot(df[df['DEATH_EVENT'] == 0][var], bins=20, kde=True, color='blue', label='Não Morte', alpha=0.6, ax=axes[0])\n",
    "\n",
    "    # Adicionar linhas verticais para os valores mínimos e máximos\n",
    "    axes[0].axvline(normal_levels[var]['min'], color='green', linestyle='--', label='Min')\n",
    "    axes[0].axvline(normal_levels[var]['max'], color='orange', linestyle='--', label='Max')\n",
    "\n",
    "    axes[0].set_title(f'Distribuição da {var} - Casos de Morte e Não Morte')\n",
    "    axes[0].set_xlabel(var)\n",
    "    axes[0].set_ylabel('Frequência')\n",
    "    axes[0].legend()\n",
    "\n",
    "    # Calcular a porcentagem de mortos de acordo com a variável\n",
    "    age_death_percent = df.groupby(var)['DEATH_EVENT'].mean() * 100\n",
    "\n",
    "    # Calcular a média móvel\n",
    "    window_size = 3\n",
    "    #window_size = 10\n",
    "    age_death_percent_moving_avg = age_death_percent.rolling(window=window_size).mean()\n",
    "\n",
    "    # Plotar a porcentagem de mortos de acordo com a idade\n",
    "    sns.scatterplot(x=age_death_percent.index, y=age_death_percent.values, label='Porcentagem de Mortes', color='blue', ax=axes[1])\n",
    "    sns.lineplot(x=age_death_percent_moving_avg.index, y=age_death_percent_moving_avg.values, label='Média Móvel', color='red', ax=axes[1])\n",
    "\n",
    "    # Adicionar linhas verticais para os valores mínimos e máximos\n",
    "    axes[1].axvline(normal_levels[var]['min'], color='green', linestyle='--', label='Min')\n",
    "    axes[1].axvline(normal_levels[var]['max'], color='orange', linestyle='--', label='Max')\n",
    "\n",
    "    axes[1].set_title(f'Porcentagem de Mortes de Acordo com {var}')\n",
    "    axes[1].set_xlabel(var)\n",
    "    axes[1].set_ylabel('Porcentagem de Mortes (%)')\n",
    "    axes[1].legend()\n",
    "    axes[1].grid(True)\n",
    "\n",
    "    plt.tight_layout()\n",
    "    plt.show()"
   ]
  },
  {
   "cell_type": "code",
   "execution_count": null,
   "metadata": {},
   "outputs": [],
   "source": [
    "\n",
    "for variable in boolean_variables:\n",
    "    fig, axes = plt.subplots(1, 2, figsize=(20, 6))\n",
    "\n",
    "    # Create a contingency table\n",
    "    contingency_table = pd.crosstab(df[variable], df['DEATH_EVENT'])\n",
    "\n",
    "    # Perform Chi-Square Test\n",
    "    chi2, p, dof, expected = chi2_contingency(contingency_table)\n",
    "\n",
    "    # print(f\"Chi-Square Test Statistic: {chi2}\")\n",
    "    # print(f\"P-Value: {p}\")\n",
    "\n",
    "    # Visualize the relationship\n",
    "    sns.countplot(x=variable, hue='DEATH_EVENT', data=df, ax=axes[0])\n",
    "    axes[0].set_xlabel(variable)\n",
    "    axes[0].set_ylabel('Count')\n",
    "    axes[0].set_title(f'Relationship between {variable} and Death')\n",
    "    axes[0].legend(title='Death', loc='upper right', labels=['No', 'Yes'])\n",
    "\n",
    "    # Calculate the percentage of deaths for each variable\n",
    "    death_percent = df.groupby(variable)['DEATH_EVENT'].mean() * 100\n",
    "    #print(f\"Probability of death for {variable}:\\n{death_percent}\")\n",
    "\n",
    "    # Plot the probability of death\n",
    "    sns.barplot(x=death_percent.index, y=death_percent.values, palette='viridis', ax=axes[1])\n",
    "    axes[1].set_xlabel(variable)\n",
    "    axes[1].set_ylabel('Probability of Death (%)')\n",
    "    axes[1].set_title(f'Probability of Death by {variable}')\n",
    "    axes[1].set_ylim(0, 100)\n",
    "\n",
    "    plt.tight_layout()\n",
    "    plt.show()"
   ]
  },
  {
   "cell_type": "markdown",
   "metadata": {},
   "source": [
    "1. Alta disponibilidade, ideal para produtos a serem utilizados na vida real\n",
    "2. Feature time será descartada, pois isso não está disponível antes do paciente morrer\n",
    "3. \n"
   ]
  },
  {
   "cell_type": "markdown",
   "metadata": {},
   "source": [
    "## Model Selection\n",
    "\n",
    "- Escolha da metrica: é mais grave dizer que uma pessoa não é doente quando ela de fato é, que dizer que ela é doente e ela não ser\n",
    "- Recall e Confusion Matrix\n",
    "- Cuidado para aplicar mesmo pipeline\n",
    "- Distribuicao parecida do y_train e do y_test"
   ]
  },
  {
   "cell_type": "code",
   "execution_count": null,
   "metadata": {},
   "outputs": [],
   "source": [
    "features = ['age', 'anaemia', 'creatinine_phosphokinase', 'diabetes',\n",
    "            'ejection_fraction', 'high_blood_pressure', 'platelets',\n",
    "            'serum_creatinine', 'serum_sodium', 'sex', 'smoking']\n",
    "target = 'DEATH_EVENT'\n",
    "\n",
    "X = df[features]\n",
    "y = df[target]\n",
    "\n",
    "# Dividir o conjunto de dados em treino e teste\n",
    "X_train, X_test, y_train, y_test = train_test_split(X, y, test_size=0.2, random_state=40)\n",
    "#\n",
    "\n",
    "clf = RandomForestClassifier(\n",
    "    n_estimators=100,\n",
    "    class_weight={0: 1, 1: 3},  # Peso maior para a classe \"1\" (doentes)\n",
    "    random_state=42\n",
    ")"
   ]
  },
  {
   "cell_type": "code",
   "execution_count": null,
   "metadata": {},
   "outputs": [],
   "source": [
    "pipeline = make_pipeline( RandomForestClassifier(class_weight={0: 1, 1: 3}, random_state=42))\n",
    "\n",
    "# Definir os parâmetros para o Grid Search\n",
    "param_grid = {\n",
    "    'randomforestclassifier__n_estimators': [50, 100, 200],\n",
    "    'randomforestclassifier__max_depth': [None, 10, 20, 30],\n",
    "    'randomforestclassifier__min_samples_split': [2, 5, 10],\n",
    "    'randomforestclassifier__min_samples_leaf': [1, 2, 4],\n",
    "    'randomforestclassifier__class_weight': [{0: 1, 1: 1}, {0: 1, 1: 2}, {0: 1, 1: 3}]\n",
    "}\n",
    "\n",
    "# Realizar o Grid Search com validação cruzada\n",
    "grid_search = GridSearchCV(pipeline, param_grid, cv=5, scoring='recall', n_jobs=-1)\n",
    "grid_search.fit(X_train, y_train)"
   ]
  },
  {
   "cell_type": "code",
   "execution_count": null,
   "metadata": {},
   "outputs": [],
   "source": [
    "# Exibir os melhores parâmetros e a melhor pontuação\n",
    "print(f'Best parameters: {grid_search.best_params_}')\n",
    "print(f'Best cross-validation recall: {grid_search.best_score_}')\n",
    "\n",
    "# Avaliar o modelo no conjunto de teste\n",
    "test_score = grid_search.best_estimator_.score(X_test, y_test)\n",
    "print(f'Recall on test set: {test_score}')"
   ]
  },
  {
   "cell_type": "code",
   "execution_count": null,
   "metadata": {},
   "outputs": [],
   "source": [
    "grid_search.best_params_"
   ]
  },
  {
   "cell_type": "code",
   "execution_count": null,
   "metadata": {},
   "outputs": [],
   "source": [
    "\n",
    "# Obter o melhor modelo do grid search\n",
    "best_model = grid_search.best_estimator_.named_steps['randomforestclassifier']\n",
    "importances = best_model.feature_importances_\n",
    "indices = np.argsort(importances)[::-1]\n",
    "\n",
    "# Plotar as importâncias das features\n",
    "plt.figure(figsize=(12, 8))\n",
    "plt.title('Feature Importances')\n",
    "plt.barh(range(X_train.shape[1]), importances[indices], align='center')\n",
    "plt.yticks(range(X_train.shape[1]), [features[i] for i in indices])\n",
    "plt.xlabel('Importance')\n",
    "plt.ylabel('Features')\n",
    "plt.gca().invert_yaxis()  # Inverter o eixo y para que a feature mais importante fique no topo\n",
    "plt.tight_layout()\n",
    "plt.show()"
   ]
  },
  {
   "cell_type": "code",
   "execution_count": null,
   "metadata": {},
   "outputs": [],
   "source": [
    "y_pred = grid_search.best_estimator_.predict(X_test)\n",
    "cm = confusion_matrix(y_test, y_pred)\n",
    "\n",
    "disp = ConfusionMatrixDisplay(confusion_matrix=cm, display_labels=['No Death', 'Death'])\n",
    "disp.plot(cmap='inferno')\n",
    "plt.title('Confusion Matrix ')\n",
    "plt.show()\n"
   ]
  },
  {
   "cell_type": "code",
   "execution_count": null,
   "metadata": {},
   "outputs": [],
   "source": [
    "y_pred = grid_search.best_estimator_.predict(X_test)\n",
    "cm = confusion_matrix(y_test, y_pred)\n",
    "cm_percentage = cm.astype('float') / cm.sum(axis=0)[:, np.newaxis] * 100\n",
    "\n",
    "disp = ConfusionMatrixDisplay(confusion_matrix=cm_percentage, display_labels=['No Death', 'Death'])\n",
    "disp.plot(cmap='inferno')\n",
    "plt.title('Confusion Matrix (Percentage)')\n",
    "plt.show()\n"
   ]
  },
  {
   "cell_type": "code",
   "execution_count": null,
   "metadata": {},
   "outputs": [],
   "source": [
    "# Salvar o melhor modelo como um arquivo .joblib\n",
    "joblib_file = \"pipeline_model.joblib\"\n",
    "joblib.dump(grid_search.best_estimator_, joblib_file)\n",
    "print(f'Best pipeline saved as {joblib_file}')"
   ]
  }
 ],
 "metadata": {
  "kernelspec": {
   "display_name": "heart_failure_env",
   "language": "python",
   "name": "python3"
  },
  "language_info": {
   "codemirror_mode": {
    "name": "ipython",
    "version": 3
   },
   "file_extension": ".py",
   "mimetype": "text/x-python",
   "name": "python",
   "nbconvert_exporter": "python",
   "pygments_lexer": "ipython3",
   "version": "3.10.15"
  }
 },
 "nbformat": 4,
 "nbformat_minor": 2
}
